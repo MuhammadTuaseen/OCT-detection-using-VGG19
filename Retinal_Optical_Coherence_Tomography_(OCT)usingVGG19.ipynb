{
  "nbformat": 4,
  "nbformat_minor": 0,
  "metadata": {
    "colab": {
      "provenance": [],
      "gpuType": "T4"
    },
    "kernelspec": {
      "name": "python3",
      "display_name": "Python 3"
    },
    "language_info": {
      "name": "python"
    },
    "accelerator": "GPU"
  },
  "cells": [
    {
      "cell_type": "markdown",
      "source": [
        "\n",
        "ABSTRACT:\n",
        "\n",
        "Retinal Optical Coherence Tomography (OCT) Images: Unveiling the Inner Workings of the Eye\n",
        "\n",
        "Optical coherence tomography (OCT) has revolutionized ophthalmology by providing high-resolution, cross-sectional images of the retina, the innermost layer of the eye responsible for vision. This non-invasive imaging technique utilizes the principles of interferometry to capture detailed information about the retina's intricate structure, enabling the diagnosis and monitoring of a wide range of eye conditions. Real-life applications of retinal OCT are numerous. In the diagnosis of age-related macular degeneration (AMD), a leading cause of vision loss in older adults, OCT can detect subtle changes in the retinal layers, such as thinning or fluid accumulation, which may indicate early signs of the disease. This early detection allows for timely intervention with treatment options that can slow disease progression and preserve vision. Similarly, OCT plays a crucial role in monitoring diabetic retinopathy, a complication of diabetes that can lead to vision loss. OCT can reveal abnormalities in the retinal blood vessels, such as microaneurysms and hemorrhages, providing a valuable tool for assessing the severity of diabetic retinopathy and guiding treatment decisions. OCT technology has also extended beyond diagnosis to aid in surgical planning and monitoring. In the treatment of retinal detachment, OCT can precisely visualize the detached retina, guiding the surgeon in placing laser burns to reattach the retina and restore vision. Similarly, in cataract surgery, OCT can assess the health of the retina and underlying structures before and after cataract removal, ensuring optimal surgical outcomes. Retinal OCT has become an indispensable tool in ophthalmic practice, providing unparalleled insights into the intricate structure and function of the retina. Its non-invasive nature, high resolution, and ability to capture dynamic processes make it a powerful diagnostic and monitoring tool for a wide range of eye conditions. As OCT technology continues to evolve, its applications in ophthalmology are bound to expand, further enhancing our ability to preserve and restore vision.\n",
        "\n",
        "\n",
        "DETAILS OF DATASET:\n",
        "\n",
        "TOTAL SIZE: Found 84484 files belonging to 3 classes.\n",
        "TRAINING SIZE: Found 83484 images belonging to 4 classes.\n",
        "VALIDATION SIZE:Found 32 images belonging to 4 classes.\n",
        "TESTING SIZE: Found 968 images belonging to 4 classes.\n",
        "\n",
        "loss: 0.1243\n",
        "accuracy: 0.9607\n",
        "auc: 0.9972\n",
        "cohen_kappa: 0.9477\n",
        "f1_score: 0.9607\n",
        "precision: 0.9666\n",
        "recall: 0.9576\n",
        "\n",
        "\n",
        " precision    recall  f1-score   support\n",
        "\n",
        "         CNV       0.31      0.33      0.32       242\n",
        "         DME       0.20      0.19      0.19       242\n",
        "      DRUSEN       0.22      0.22      0.22       242\n",
        "      NORMAL       0.28      0.29      0.28       242\n",
        "\n",
        "    accuracy                           0.26       968\n",
        "   macro avg       0.25      0.26      0.25       968\n",
        "weighted avg       0.25      0.26      0.25       968\n",
        "\n",
        "\n",
        "\n",
        "\n",
        "Class 0:\n",
        "True Positives: 81\n",
        "False Positives: 182\n",
        "True Negatives: 544\n",
        "False Negatives: 161\n",
        "-------------\n",
        "\n",
        "Class 1:\n",
        "True Positives: 45\n",
        "False Positives: 177\n",
        "True Negatives: 549\n",
        "False Negatives: 197\n",
        "-------------\n",
        "\n",
        "Class 2:\n",
        "True Positives: 53\n",
        "False Positives: 185\n",
        "True Negatives: 541\n",
        "False Negatives: 189\n",
        "-------------\n",
        "\n",
        "Class 3:\n",
        "True Positives: 69\n",
        "False Positives: 176\n",
        "True Negatives: 550\n",
        "False Negatives: 173\n",
        "-------------"
      ],
      "metadata": {
        "id": "uhS6Znz4o9Iq"
      }
    },
    {
      "cell_type": "code",
      "execution_count": null,
      "metadata": {
        "colab": {
          "base_uri": "https://localhost:8080/",
          "height": 90
        },
        "id": "Ay-ZxolOndqD",
        "outputId": "46a7207e-256d-4b06-f31e-c62ac37cde2d"
      },
      "outputs": [
        {
          "output_type": "display_data",
          "data": {
            "text/plain": [
              "<IPython.core.display.HTML object>"
            ],
            "text/html": [
              "\n",
              "     <input type=\"file\" id=\"files-05e574ab-afcb-43ba-a7de-baeb5cc4f98e\" name=\"files[]\" multiple disabled\n",
              "        style=\"border:none\" />\n",
              "     <output id=\"result-05e574ab-afcb-43ba-a7de-baeb5cc4f98e\">\n",
              "      Upload widget is only available when the cell has been executed in the\n",
              "      current browser session. Please rerun this cell to enable.\n",
              "      </output>\n",
              "      <script>// Copyright 2017 Google LLC\n",
              "//\n",
              "// Licensed under the Apache License, Version 2.0 (the \"License\");\n",
              "// you may not use this file except in compliance with the License.\n",
              "// You may obtain a copy of the License at\n",
              "//\n",
              "//      http://www.apache.org/licenses/LICENSE-2.0\n",
              "//\n",
              "// Unless required by applicable law or agreed to in writing, software\n",
              "// distributed under the License is distributed on an \"AS IS\" BASIS,\n",
              "// WITHOUT WARRANTIES OR CONDITIONS OF ANY KIND, either express or implied.\n",
              "// See the License for the specific language governing permissions and\n",
              "// limitations under the License.\n",
              "\n",
              "/**\n",
              " * @fileoverview Helpers for google.colab Python module.\n",
              " */\n",
              "(function(scope) {\n",
              "function span(text, styleAttributes = {}) {\n",
              "  const element = document.createElement('span');\n",
              "  element.textContent = text;\n",
              "  for (const key of Object.keys(styleAttributes)) {\n",
              "    element.style[key] = styleAttributes[key];\n",
              "  }\n",
              "  return element;\n",
              "}\n",
              "\n",
              "// Max number of bytes which will be uploaded at a time.\n",
              "const MAX_PAYLOAD_SIZE = 100 * 1024;\n",
              "\n",
              "function _uploadFiles(inputId, outputId) {\n",
              "  const steps = uploadFilesStep(inputId, outputId);\n",
              "  const outputElement = document.getElementById(outputId);\n",
              "  // Cache steps on the outputElement to make it available for the next call\n",
              "  // to uploadFilesContinue from Python.\n",
              "  outputElement.steps = steps;\n",
              "\n",
              "  return _uploadFilesContinue(outputId);\n",
              "}\n",
              "\n",
              "// This is roughly an async generator (not supported in the browser yet),\n",
              "// where there are multiple asynchronous steps and the Python side is going\n",
              "// to poll for completion of each step.\n",
              "// This uses a Promise to block the python side on completion of each step,\n",
              "// then passes the result of the previous step as the input to the next step.\n",
              "function _uploadFilesContinue(outputId) {\n",
              "  const outputElement = document.getElementById(outputId);\n",
              "  const steps = outputElement.steps;\n",
              "\n",
              "  const next = steps.next(outputElement.lastPromiseValue);\n",
              "  return Promise.resolve(next.value.promise).then((value) => {\n",
              "    // Cache the last promise value to make it available to the next\n",
              "    // step of the generator.\n",
              "    outputElement.lastPromiseValue = value;\n",
              "    return next.value.response;\n",
              "  });\n",
              "}\n",
              "\n",
              "/**\n",
              " * Generator function which is called between each async step of the upload\n",
              " * process.\n",
              " * @param {string} inputId Element ID of the input file picker element.\n",
              " * @param {string} outputId Element ID of the output display.\n",
              " * @return {!Iterable<!Object>} Iterable of next steps.\n",
              " */\n",
              "function* uploadFilesStep(inputId, outputId) {\n",
              "  const inputElement = document.getElementById(inputId);\n",
              "  inputElement.disabled = false;\n",
              "\n",
              "  const outputElement = document.getElementById(outputId);\n",
              "  outputElement.innerHTML = '';\n",
              "\n",
              "  const pickedPromise = new Promise((resolve) => {\n",
              "    inputElement.addEventListener('change', (e) => {\n",
              "      resolve(e.target.files);\n",
              "    });\n",
              "  });\n",
              "\n",
              "  const cancel = document.createElement('button');\n",
              "  inputElement.parentElement.appendChild(cancel);\n",
              "  cancel.textContent = 'Cancel upload';\n",
              "  const cancelPromise = new Promise((resolve) => {\n",
              "    cancel.onclick = () => {\n",
              "      resolve(null);\n",
              "    };\n",
              "  });\n",
              "\n",
              "  // Wait for the user to pick the files.\n",
              "  const files = yield {\n",
              "    promise: Promise.race([pickedPromise, cancelPromise]),\n",
              "    response: {\n",
              "      action: 'starting',\n",
              "    }\n",
              "  };\n",
              "\n",
              "  cancel.remove();\n",
              "\n",
              "  // Disable the input element since further picks are not allowed.\n",
              "  inputElement.disabled = true;\n",
              "\n",
              "  if (!files) {\n",
              "    return {\n",
              "      response: {\n",
              "        action: 'complete',\n",
              "      }\n",
              "    };\n",
              "  }\n",
              "\n",
              "  for (const file of files) {\n",
              "    const li = document.createElement('li');\n",
              "    li.append(span(file.name, {fontWeight: 'bold'}));\n",
              "    li.append(span(\n",
              "        `(${file.type || 'n/a'}) - ${file.size} bytes, ` +\n",
              "        `last modified: ${\n",
              "            file.lastModifiedDate ? file.lastModifiedDate.toLocaleDateString() :\n",
              "                                    'n/a'} - `));\n",
              "    const percent = span('0% done');\n",
              "    li.appendChild(percent);\n",
              "\n",
              "    outputElement.appendChild(li);\n",
              "\n",
              "    const fileDataPromise = new Promise((resolve) => {\n",
              "      const reader = new FileReader();\n",
              "      reader.onload = (e) => {\n",
              "        resolve(e.target.result);\n",
              "      };\n",
              "      reader.readAsArrayBuffer(file);\n",
              "    });\n",
              "    // Wait for the data to be ready.\n",
              "    let fileData = yield {\n",
              "      promise: fileDataPromise,\n",
              "      response: {\n",
              "        action: 'continue',\n",
              "      }\n",
              "    };\n",
              "\n",
              "    // Use a chunked sending to avoid message size limits. See b/62115660.\n",
              "    let position = 0;\n",
              "    do {\n",
              "      const length = Math.min(fileData.byteLength - position, MAX_PAYLOAD_SIZE);\n",
              "      const chunk = new Uint8Array(fileData, position, length);\n",
              "      position += length;\n",
              "\n",
              "      const base64 = btoa(String.fromCharCode.apply(null, chunk));\n",
              "      yield {\n",
              "        response: {\n",
              "          action: 'append',\n",
              "          file: file.name,\n",
              "          data: base64,\n",
              "        },\n",
              "      };\n",
              "\n",
              "      let percentDone = fileData.byteLength === 0 ?\n",
              "          100 :\n",
              "          Math.round((position / fileData.byteLength) * 100);\n",
              "      percent.textContent = `${percentDone}% done`;\n",
              "\n",
              "    } while (position < fileData.byteLength);\n",
              "  }\n",
              "\n",
              "  // All done.\n",
              "  yield {\n",
              "    response: {\n",
              "      action: 'complete',\n",
              "    }\n",
              "  };\n",
              "}\n",
              "\n",
              "scope.google = scope.google || {};\n",
              "scope.google.colab = scope.google.colab || {};\n",
              "scope.google.colab._files = {\n",
              "  _uploadFiles,\n",
              "  _uploadFilesContinue,\n",
              "};\n",
              "})(self);\n",
              "</script> "
            ]
          },
          "metadata": {}
        },
        {
          "output_type": "stream",
          "name": "stdout",
          "text": [
            "Saving kaggle.json to kaggle.json\n",
            "User uploaded file \"kaggle.json\" with length 71 bytes\n"
          ]
        }
      ],
      "source": [
        "from google.colab import files\n",
        "\n",
        "uploaded = files.upload()\n",
        "\n",
        "for fn in uploaded.keys():\n",
        "  print('User uploaded file \"{name}\" with length {length} bytes'.format(\n",
        "      name=fn, length=len(uploaded[fn])))\n",
        "\n",
        "# Then move kaggle.json into the folder where the API expects to find it.\n",
        "!mkdir -p ~/.kaggle/ && mv kaggle.json ~/.kaggle/ && chmod 600 ~/.kaggle/kaggle.json"
      ]
    },
    {
      "cell_type": "code",
      "source": [
        "!kaggle datasets download -d paultimothymooney/kermany2018"
      ],
      "metadata": {
        "colab": {
          "base_uri": "https://localhost:8080/"
        },
        "id": "pLDyI84bn1Cg",
        "outputId": "e2ef3c64-762b-4cd7-b6e9-2cf61799f145"
      },
      "execution_count": null,
      "outputs": [
        {
          "output_type": "stream",
          "name": "stdout",
          "text": [
            "Downloading kermany2018.zip to /content\n",
            "100% 10.8G/10.8G [09:33<00:00, 23.3MB/s]\n",
            "100% 10.8G/10.8G [09:33<00:00, 20.3MB/s]\n"
          ]
        }
      ]
    },
    {
      "cell_type": "code",
      "source": [
        "from zipfile import ZipFile\n",
        "file_name = \"/content/kermany2018.zip\"\n",
        "with ZipFile(file_name,'r') as zip:\n",
        "  zip.extractall()\n",
        "  print('Done')"
      ],
      "metadata": {
        "colab": {
          "base_uri": "https://localhost:8080/"
        },
        "id": "rCLt0ZtAoi61",
        "outputId": "12bd72d7-a3e1-4f51-e4da-2bb0f3480034"
      },
      "execution_count": null,
      "outputs": [
        {
          "output_type": "stream",
          "name": "stdout",
          "text": [
            "Done\n"
          ]
        }
      ]
    },
    {
      "cell_type": "code",
      "source": [
        "import zipfile\n",
        "import os\n",
        "\n",
        "file_name = \"/content/kermany2018.zip\"\n",
        "destination_folder = \"/content/eye-dataset\"  # Change this to your desired main folder path\n",
        "\n",
        "with zipfile.ZipFile(file_name, 'r') as zip_ref:\n",
        "    for file in zip_ref.namelist():\n",
        "        zip_ref.extract(file, destination_folder)\n",
        "        extracted_file_path = os.path.join(destination_folder, file)\n",
        "        # You can perform any additional processing or move files as needed here\n",
        "    print('Extraction Done')"
      ],
      "metadata": {
        "colab": {
          "base_uri": "https://localhost:8080/"
        },
        "id": "Ortdfth2rmHp",
        "outputId": "79d45894-1182-468e-e83c-204c929445e9"
      },
      "execution_count": null,
      "outputs": [
        {
          "output_type": "stream",
          "name": "stdout",
          "text": [
            "Extraction Done\n"
          ]
        }
      ]
    },
    {
      "cell_type": "code",
      "source": [
        "from tensorflow import keras\n",
        "import tensorflow as tf\n",
        "from keras import applications\n",
        "from keras.applications.vgg19 import VGG19\n",
        "model = VGG19(weights='imagenet')\n",
        "print(model.summary())"
      ],
      "metadata": {
        "id": "y8A1Xgl2880E",
        "colab": {
          "base_uri": "https://localhost:8080/"
        },
        "outputId": "7f7ca21d-7d35-4f3e-e46a-ea70d122bed2"
      },
      "execution_count": null,
      "outputs": [
        {
          "output_type": "stream",
          "name": "stdout",
          "text": [
            "Downloading data from https://storage.googleapis.com/tensorflow/keras-applications/vgg19/vgg19_weights_tf_dim_ordering_tf_kernels.h5\n",
            "574710816/574710816 [==============================] - 27s 0us/step\n",
            "Model: \"vgg19\"\n",
            "_________________________________________________________________\n",
            " Layer (type)                Output Shape              Param #   \n",
            "=================================================================\n",
            " input_1 (InputLayer)        [(None, 224, 224, 3)]     0         \n",
            "                                                                 \n",
            " block1_conv1 (Conv2D)       (None, 224, 224, 64)      1792      \n",
            "                                                                 \n",
            " block1_conv2 (Conv2D)       (None, 224, 224, 64)      36928     \n",
            "                                                                 \n",
            " block1_pool (MaxPooling2D)  (None, 112, 112, 64)      0         \n",
            "                                                                 \n",
            " block2_conv1 (Conv2D)       (None, 112, 112, 128)     73856     \n",
            "                                                                 \n",
            " block2_conv2 (Conv2D)       (None, 112, 112, 128)     147584    \n",
            "                                                                 \n",
            " block2_pool (MaxPooling2D)  (None, 56, 56, 128)       0         \n",
            "                                                                 \n",
            " block3_conv1 (Conv2D)       (None, 56, 56, 256)       295168    \n",
            "                                                                 \n",
            " block3_conv2 (Conv2D)       (None, 56, 56, 256)       590080    \n",
            "                                                                 \n",
            " block3_conv3 (Conv2D)       (None, 56, 56, 256)       590080    \n",
            "                                                                 \n",
            " block3_conv4 (Conv2D)       (None, 56, 56, 256)       590080    \n",
            "                                                                 \n",
            " block3_pool (MaxPooling2D)  (None, 28, 28, 256)       0         \n",
            "                                                                 \n",
            " block4_conv1 (Conv2D)       (None, 28, 28, 512)       1180160   \n",
            "                                                                 \n",
            " block4_conv2 (Conv2D)       (None, 28, 28, 512)       2359808   \n",
            "                                                                 \n",
            " block4_conv3 (Conv2D)       (None, 28, 28, 512)       2359808   \n",
            "                                                                 \n",
            " block4_conv4 (Conv2D)       (None, 28, 28, 512)       2359808   \n",
            "                                                                 \n",
            " block4_pool (MaxPooling2D)  (None, 14, 14, 512)       0         \n",
            "                                                                 \n",
            " block5_conv1 (Conv2D)       (None, 14, 14, 512)       2359808   \n",
            "                                                                 \n",
            " block5_conv2 (Conv2D)       (None, 14, 14, 512)       2359808   \n",
            "                                                                 \n",
            " block5_conv3 (Conv2D)       (None, 14, 14, 512)       2359808   \n",
            "                                                                 \n",
            " block5_conv4 (Conv2D)       (None, 14, 14, 512)       2359808   \n",
            "                                                                 \n",
            " block5_pool (MaxPooling2D)  (None, 7, 7, 512)         0         \n",
            "                                                                 \n",
            " flatten (Flatten)           (None, 25088)             0         \n",
            "                                                                 \n",
            " fc1 (Dense)                 (None, 4096)              102764544 \n",
            "                                                                 \n",
            " fc2 (Dense)                 (None, 4096)              16781312  \n",
            "                                                                 \n",
            " predictions (Dense)         (None, 1000)              4097000   \n",
            "                                                                 \n",
            "=================================================================\n",
            "Total params: 143667240 (548.05 MB)\n",
            "Trainable params: 143667240 (548.05 MB)\n",
            "Non-trainable params: 0 (0.00 Byte)\n",
            "_________________________________________________________________\n",
            "None\n"
          ]
        }
      ]
    },
    {
      "cell_type": "code",
      "source": [
        "import os\n",
        "import random\n",
        "\n",
        "import numpy as np\n",
        "import matplotlib.pyplot as plt\n",
        "import seaborn as sns\n",
        "import sklearn.metrics\n",
        "\n",
        "!pip install tensorflow-addons\n",
        "import tensorflow_addons as tfa\n",
        "from keras.preprocessing.image import ImageDataGenerator, load_img"
      ],
      "metadata": {
        "colab": {
          "base_uri": "https://localhost:8080/"
        },
        "id": "Reji9Q8h8_b7",
        "outputId": "58e3a312-baba-4523-a59a-f01cb60cdab8"
      },
      "execution_count": null,
      "outputs": [
        {
          "output_type": "stream",
          "name": "stdout",
          "text": [
            "Collecting tensorflow-addons\n",
            "  Downloading tensorflow_addons-0.23.0-cp310-cp310-manylinux_2_17_x86_64.manylinux2014_x86_64.whl (611 kB)\n",
            "\u001b[?25l     \u001b[90m━━━━━━━━━━━━━━━━━━━━━━━━━━━━━━━━━━━━━━━━\u001b[0m \u001b[32m0.0/611.8 kB\u001b[0m \u001b[31m?\u001b[0m eta \u001b[36m-:--:--\u001b[0m\r\u001b[2K     \u001b[91m━━━━\u001b[0m\u001b[91m╸\u001b[0m\u001b[90m━━━━━━━━━━━━━━━━━━━━━━━━━━━━━━━━━━━\u001b[0m \u001b[32m71.7/611.8 kB\u001b[0m \u001b[31m1.9 MB/s\u001b[0m eta \u001b[36m0:00:01\u001b[0m\r\u001b[2K     \u001b[90m━━━━━━━━━━━━━━━━━━━━━━━━━━━━━━━━━━━━━━━━\u001b[0m \u001b[32m611.8/611.8 kB\u001b[0m \u001b[31m10.1 MB/s\u001b[0m eta \u001b[36m0:00:00\u001b[0m\n",
            "\u001b[?25hRequirement already satisfied: packaging in /usr/local/lib/python3.10/dist-packages (from tensorflow-addons) (23.2)\n",
            "Collecting typeguard<3.0.0,>=2.7 (from tensorflow-addons)\n",
            "  Downloading typeguard-2.13.3-py3-none-any.whl (17 kB)\n",
            "Installing collected packages: typeguard, tensorflow-addons\n",
            "Successfully installed tensorflow-addons-0.23.0 typeguard-2.13.3\n"
          ]
        },
        {
          "output_type": "stream",
          "name": "stderr",
          "text": [
            "/usr/local/lib/python3.10/dist-packages/tensorflow_addons/utils/tfa_eol_msg.py:23: UserWarning: \n",
            "\n",
            "TensorFlow Addons (TFA) has ended development and introduction of new features.\n",
            "TFA has entered a minimal maintenance and release mode until a planned end of life in May 2024.\n",
            "Please modify downstream libraries to take dependencies from other repositories in our TensorFlow community (e.g. Keras, Keras-CV, and Keras-NLP). \n",
            "\n",
            "For more information see: https://github.com/tensorflow/addons/issues/2807 \n",
            "\n",
            "  warnings.warn(\n"
          ]
        }
      ]
    },
    {
      "cell_type": "code",
      "source": [
        "data_dir = '../content/eye-dataset/OCT2017 '\n",
        "data = tf.keras.preprocessing.image_dataset_from_directory(data_dir)"
      ],
      "metadata": {
        "colab": {
          "base_uri": "https://localhost:8080/"
        },
        "id": "CvWzYMIxTAE2",
        "outputId": "00733917-fc6d-4dc4-9bd1-2b3484fc86cb"
      },
      "execution_count": null,
      "outputs": [
        {
          "output_type": "stream",
          "name": "stdout",
          "text": [
            "Found 84484 files belonging to 3 classes.\n"
          ]
        }
      ]
    },
    {
      "cell_type": "code",
      "source": [
        "base_dir = os.path.join(\"../content/eye-dataset/oct2017/OCT2017 /\")\n",
        "print('Base directory --> ', os.listdir(base_dir))"
      ],
      "metadata": {
        "colab": {
          "base_uri": "https://localhost:8080/"
        },
        "id": "fpxlbAIQT7OD",
        "outputId": "fd9c5c21-b683-48c2-e2a4-8987035d935a"
      },
      "execution_count": null,
      "outputs": [
        {
          "output_type": "stream",
          "name": "stdout",
          "text": [
            "Base directory -->  ['.DS_Store', 'train', 'test', 'val']\n"
          ]
        }
      ]
    },
    {
      "cell_type": "code",
      "source": [
        "train_dir = os.path.join(base_dir + \"train/\")\n",
        "print(\"Train Directory --> \", os.listdir(train_dir))\n",
        "\n",
        "validation_dir = os.path.join(base_dir + \"val/\")\n",
        "print(\"Validation Directory --> \", os.listdir(validation_dir))\n",
        "\n",
        "test_dir = os.path.join(base_dir + \"test/\")\n",
        "print(\"Test Directory --> \", os.listdir(test_dir))"
      ],
      "metadata": {
        "colab": {
          "base_uri": "https://localhost:8080/"
        },
        "id": "8h8Rqca9UU4T",
        "outputId": "9833557b-6ebf-40ec-8a2f-68ffb809461e"
      },
      "execution_count": null,
      "outputs": [
        {
          "output_type": "stream",
          "name": "stdout",
          "text": [
            "Train Directory -->  ['DME', 'CNV', 'NORMAL', 'DRUSEN']\n",
            "Validation Directory -->  ['DME', 'CNV', '.DS_Store', 'NORMAL', 'DRUSEN']\n",
            "Test Directory -->  ['DME', 'CNV', '.DS_Store', 'NORMAL', 'DRUSEN']\n"
          ]
        }
      ]
    },
    {
      "cell_type": "code",
      "source": [
        "vgg19 = tf.keras.applications.VGG19(\n",
        "    include_top = False,\n",
        "    weights = 'imagenet',\n",
        "    input_tensor = None,\n",
        "    input_shape = (150,150,3),\n",
        "    pooling = None\n",
        ")"
      ],
      "metadata": {
        "id": "5w1_z0UxU_6s",
        "colab": {
          "base_uri": "https://localhost:8080/"
        },
        "outputId": "c798e2d0-ce44-43f0-f0af-3bdc59e68dc2"
      },
      "execution_count": null,
      "outputs": [
        {
          "output_type": "stream",
          "name": "stdout",
          "text": [
            "Downloading data from https://storage.googleapis.com/tensorflow/keras-applications/vgg19/vgg19_weights_tf_dim_ordering_tf_kernels_notop.h5\n",
            "80134624/80134624 [==============================] - 5s 0us/step\n"
          ]
        }
      ]
    },
    {
      "cell_type": "code",
      "source": [
        "vgg19.trainable = False"
      ],
      "metadata": {
        "id": "BAMa3yZPVTnP"
      },
      "execution_count": null,
      "outputs": []
    },
    {
      "cell_type": "code",
      "source": [
        "model_vgg = tf.keras.models.Sequential([\n",
        "\n",
        "    vgg19,\n",
        "    tf.keras.layers.Conv2D(128, kernel_size = (3, 3), padding = 'same'),\n",
        "    tf.keras.layers.PReLU(alpha_initializer='zeros'),# modifying final layers of VGG-19\n",
        "    tf.keras.layers.Conv2D(64, kernel_size = (3, 3), padding = 'same'),\n",
        "    tf.keras.layers.PReLU(alpha_initializer='zeros'),\n",
        "    tf.keras.layers.Flatten(),\n",
        "    tf.keras.layers.Dense(100),\n",
        "    tf.keras.layers.PReLU(alpha_initializer='zeros'),\n",
        "    tf.keras.layers.Dense(4, activation = 'softmax')\n",
        "])"
      ],
      "metadata": {
        "id": "i1BDAoArVU1w"
      },
      "execution_count": null,
      "outputs": []
    },
    {
      "cell_type": "code",
      "source": [
        "metrics = ['accuracy',\n",
        "                tf.keras.metrics.AUC(),\n",
        "                tfa.metrics.CohenKappa(num_classes = 4),\n",
        "                tfa.metrics.F1Score(num_classes = 4),\n",
        "                tf.keras.metrics.Precision(),\n",
        "                tf.keras.metrics.Recall()]"
      ],
      "metadata": {
        "id": "q4c6RNnzVZRC"
      },
      "execution_count": null,
      "outputs": []
    },
    {
      "cell_type": "code",
      "source": [
        "model_vgg.compile(loss = 'categorical_crossentropy', optimizer = 'adam', metrics = metrics)\n",
        "model_vgg.summary()"
      ],
      "metadata": {
        "colab": {
          "base_uri": "https://localhost:8080/"
        },
        "id": "wH6N6cUQWORF",
        "outputId": "23c3c73d-6cc5-42ce-ee35-e6faa5f51c6b"
      },
      "execution_count": null,
      "outputs": [
        {
          "output_type": "stream",
          "name": "stdout",
          "text": [
            "Model: \"sequential\"\n",
            "_________________________________________________________________\n",
            " Layer (type)                Output Shape              Param #   \n",
            "=================================================================\n",
            " vgg19 (Functional)          (None, 4, 4, 512)         20024384  \n",
            "                                                                 \n",
            " conv2d (Conv2D)             (None, 4, 4, 128)         589952    \n",
            "                                                                 \n",
            " p_re_lu (PReLU)             (None, 4, 4, 128)         2048      \n",
            "                                                                 \n",
            " conv2d_1 (Conv2D)           (None, 4, 4, 64)          73792     \n",
            "                                                                 \n",
            " p_re_lu_1 (PReLU)           (None, 4, 4, 64)          1024      \n",
            "                                                                 \n",
            " flatten (Flatten)           (None, 1024)              0         \n",
            "                                                                 \n",
            " dense (Dense)               (None, 100)               102500    \n",
            "                                                                 \n",
            " p_re_lu_2 (PReLU)           (None, 100)               100       \n",
            "                                                                 \n",
            " dense_1 (Dense)             (None, 4)                 404       \n",
            "                                                                 \n",
            "=================================================================\n",
            "Total params: 20794204 (79.32 MB)\n",
            "Trainable params: 769820 (2.94 MB)\n",
            "Non-trainable params: 20024384 (76.39 MB)\n",
            "_________________________________________________________________\n"
          ]
        }
      ]
    },
    {
      "cell_type": "code",
      "source": [
        "train_datagen = ImageDataGenerator(rescale = 1./255)\n",
        "train_generator = train_datagen.flow_from_directory(\n",
        "    train_dir, target_size = (150, 150), class_mode = 'categorical',\n",
        "    batch_size = 500)\n"
      ],
      "metadata": {
        "colab": {
          "base_uri": "https://localhost:8080/"
        },
        "id": "jj4VbCneW9Gp",
        "outputId": "038132b1-4dc9-45e6-980e-f437b0de761a"
      },
      "execution_count": null,
      "outputs": [
        {
          "output_type": "stream",
          "name": "stdout",
          "text": [
            "Found 83484 images belonging to 4 classes.\n"
          ]
        }
      ]
    },
    {
      "cell_type": "code",
      "source": [
        "validation_datagen = ImageDataGenerator(rescale = 1./255)\n",
        "validation_generator = validation_datagen.flow_from_directory(\n",
        "    validation_dir, target_size = (150, 150), class_mode = 'categorical',\n",
        "    batch_size = 16)"
      ],
      "metadata": {
        "colab": {
          "base_uri": "https://localhost:8080/"
        },
        "id": "2vGCE7XuXYZe",
        "outputId": "0e71ef09-e281-4d84-e29e-9756fdc89494"
      },
      "execution_count": null,
      "outputs": [
        {
          "output_type": "stream",
          "name": "stdout",
          "text": [
            "Found 32 images belonging to 4 classes.\n"
          ]
        }
      ]
    },
    {
      "cell_type": "code",
      "source": [
        "test_datagen = ImageDataGenerator(rescale = 1./255)\n",
        "test_generator = test_datagen.flow_from_directory(\n",
        "    test_dir, target_size = (150, 150), class_mode = 'categorical',\n",
        "    batch_size = 50)"
      ],
      "metadata": {
        "colab": {
          "base_uri": "https://localhost:8080/"
        },
        "id": "16nnyU1iXa4l",
        "outputId": "cc2eff21-8a92-42f8-889b-89cb275186d6"
      },
      "execution_count": null,
      "outputs": [
        {
          "output_type": "stream",
          "name": "stdout",
          "text": [
            "Found 968 images belonging to 4 classes.\n"
          ]
        }
      ]
    },
    {
      "cell_type": "code",
      "source": [
        "from sklearn.model_selection import train_test_split\n",
        "\n",
        "# Specify your main dataset directory\n",
        "main_dataset_directory = '/content/eye-dataset/OCT2017 /'\n",
        "\n",
        "# Get the list of subdirectories (classes)\n",
        "subdirectories = [f.name for f in os.scandir(main_dataset_directory) if f.is_dir()]\n",
        "\n",
        "# Create train and test directories\n",
        "train_dir, test_dir = train_test_split(subdirectories, test_size=0.2, random_state=42)\n",
        "\n",
        "# Create data generators for training and testing\n",
        "train_datagen = ImageDataGenerator(rescale=1./255)\n",
        "train_generator = train_datagen.flow_from_directory(\n",
        "    os.path.join(main_dataset_directory, 'train'),\n",
        "    target_size=(150, 150),\n",
        "    class_mode='categorical',\n",
        "    batch_size=500\n",
        ")\n",
        "\n",
        "# test_datagen = ImageDataGenerator(rescale=1./255)\n",
        "# test_generator = test_datagen.flow_from_directory(\n",
        "#     os.path.join(main_dataset_directory, 'test'),\n",
        "#     target_size=(150, 150),\n",
        "#     class_mode='categorical',\n",
        "#     batch_size=50\n",
        "# )\n"
      ],
      "metadata": {
        "colab": {
          "base_uri": "https://localhost:8080/"
        },
        "id": "HjadmR_9YH4I",
        "outputId": "50da299a-defd-4c1d-fcd4-e7ae522bbf01"
      },
      "execution_count": null,
      "outputs": [
        {
          "output_type": "stream",
          "name": "stdout",
          "text": [
            "Found 83484 images belonging to 4 classes.\n"
          ]
        }
      ]
    },
    {
      "cell_type": "code",
      "source": [
        "from sklearn.model_selection import train_test_split\n",
        "\n",
        "# Specify your main dataset directory\n",
        "main_dataset_directory = '/content/eye-dataset/OCT2017 /'\n",
        "\n",
        "# Get the list of subdirectories (classes)\n",
        "subdirectories = [f.name for f in os.scandir(main_dataset_directory) if f.is_dir()]\n",
        "\n",
        "# Create train and test directories\n",
        "train_dir, test_dir = train_test_split(subdirectories, test_size=0.2, random_state=42)\n",
        "\n",
        "test_datagen = ImageDataGenerator(rescale=1./255)\n",
        "test_generator = test_datagen.flow_from_directory(\n",
        "    os.path.join(main_dataset_directory, 'test'),\n",
        "    target_size=(150, 150),\n",
        "    class_mode='categorical',\n",
        "    batch_size=50\n",
        ")\n"
      ],
      "metadata": {
        "colab": {
          "base_uri": "https://localhost:8080/"
        },
        "id": "q8BH5S5PYR_M",
        "outputId": "fda9741e-0e51-49e9-b039-64e04b7bb3e3"
      },
      "execution_count": null,
      "outputs": [
        {
          "output_type": "stream",
          "name": "stdout",
          "text": [
            "Found 968 images belonging to 4 classes.\n"
          ]
        }
      ]
    },
    {
      "cell_type": "code",
      "source": [
        "!nvidia-smi"
      ],
      "metadata": {
        "colab": {
          "base_uri": "https://localhost:8080/"
        },
        "id": "2_zTRMDtYWwu",
        "outputId": "101a06fb-03f7-426e-c857-4fddfbfc995e"
      },
      "execution_count": null,
      "outputs": [
        {
          "output_type": "stream",
          "name": "stdout",
          "text": [
            "Sun Dec 24 00:14:12 2023       \n",
            "+---------------------------------------------------------------------------------------+\n",
            "| NVIDIA-SMI 535.104.05             Driver Version: 535.104.05   CUDA Version: 12.2     |\n",
            "|-----------------------------------------+----------------------+----------------------+\n",
            "| GPU  Name                 Persistence-M | Bus-Id        Disp.A | Volatile Uncorr. ECC |\n",
            "| Fan  Temp   Perf          Pwr:Usage/Cap |         Memory-Usage | GPU-Util  Compute M. |\n",
            "|                                         |                      |               MIG M. |\n",
            "|=========================================+======================+======================|\n",
            "|   0  Tesla T4                       Off | 00000000:00:04.0 Off |                    0 |\n",
            "| N/A   49C    P0              27W /  70W |   2279MiB / 15360MiB |      0%      Default |\n",
            "|                                         |                      |                  N/A |\n",
            "+-----------------------------------------+----------------------+----------------------+\n",
            "                                                                                         \n",
            "+---------------------------------------------------------------------------------------+\n",
            "| Processes:                                                                            |\n",
            "|  GPU   GI   CI        PID   Type   Process name                            GPU Memory |\n",
            "|        ID   ID                                                             Usage      |\n",
            "|=======================================================================================|\n",
            "+---------------------------------------------------------------------------------------+\n"
          ]
        }
      ]
    },
    {
      "cell_type": "code",
      "source": [
        "# @title\n",
        "\n",
        "history_vgg = model_vgg.fit(\n",
        "    train_generator,\n",
        "    steps_per_epoch = (83484/500),\n",
        "    epochs = 25,\n",
        "    validation_data = validation_generator,\n",
        "    validation_steps = (32/16),\n",
        "    max_queue_size=100,\n",
        "    workers = 4 ,\n",
        "    use_multiprocessing=True,\n",
        "    verbose = 1)"
      ],
      "metadata": {
        "colab": {
          "base_uri": "https://localhost:8080/"
        },
        "id": "RK2Xdu98aLLK",
        "outputId": "271fe599-2c35-4489-92be-55d5a848f674",
        "collapsed": true
      },
      "execution_count": null,
      "outputs": [
        {
          "output_type": "stream",
          "name": "stdout",
          "text": [
            "Epoch 1/25\n",
            "166/166 [==============================] - 442s 2s/step - loss: 0.6134 - accuracy: 0.7663 - auc: 0.9355 - cohen_kappa: 0.6361 - f1_score: 0.6238 - precision: 0.8298 - recall: 0.7011 - val_loss: 0.3083 - val_accuracy: 0.9375 - val_auc: 0.9847 - val_cohen_kappa: 0.9167 - val_f1_score: 0.9365 - val_precision: 0.9355 - val_recall: 0.9062\n",
            "Epoch 2/25\n",
            "166/166 [==============================] - 601s 4s/step - loss: 0.3951 - accuracy: 0.8578 - auc: 0.9720 - cohen_kappa: 0.7846 - f1_score: 0.7782 - precision: 0.8787 - recall: 0.8363 - val_loss: 0.3439 - val_accuracy: 0.8750 - val_auc: 0.9780 - val_cohen_kappa: 0.8333 - val_f1_score: 0.8715 - val_precision: 0.8710 - val_recall: 0.8438\n",
            "Epoch 3/25\n",
            " 72/166 [===========>..................] - ETA: 6:51 - loss: 0.3577 - accuracy: 0.8711 - auc: 0.9766 - cohen_kappa: 0.8050 - f1_score: 0.8003 - precision: 0.8889 - recall: 0.8530"
          ]
        }
      ]
    },
    {
      "cell_type": "code",
      "source": [
        "print(\"metrics changes of VGG-19 based ConvNet\")\n",
        "acc = history_vgg.history['accuracy']\n",
        "val_acc = history_vgg.history['val_accuracy']\n",
        "loss = history_vgg.history['loss']\n",
        "val_loss = history_vgg.history['val_loss']\n",
        "\n",
        "epochs = range(len(acc))\n",
        "\n",
        "plt.figure(figsize=(12,12))\n",
        "\n",
        "plt.plot(epochs, acc, 'r', label = 'Training accuracy')\n",
        "plt.plot(epochs, val_acc, 'b', label = 'Validation accuracy')\n",
        "plt.title('Training & validation accuracy')\n",
        "plt.legend()\n",
        "\n",
        "plt.figure(figsize = (12,12))\n",
        "\n",
        "plt.plot(epochs, loss, 'r', label = 'Training Loss')\n",
        "plt.plot(epochs, val_loss, 'b', label = 'Validation Loss')\n",
        "plt.title('Training $ validation loss')\n",
        "plt.legend()\n",
        "\n",
        "plt.show()"
      ],
      "metadata": {
        "id": "lHGiTi8fmT9H"
      },
      "execution_count": null,
      "outputs": []
    },
    {
      "cell_type": "code",
      "source": [
        "model_vgg.evaluate(test_generator)"
      ],
      "metadata": {
        "id": "nBecnqldmcGe"
      },
      "execution_count": null,
      "outputs": []
    },
    {
      "cell_type": "code",
      "source": [
        "test_steps_per_epoch = np.math.ceil(test_generator.samples / test_generator.batch_size)\n",
        "\n",
        "predictions = model_vgg.predict_generator(test_generator, steps = test_steps_per_epoch)\n",
        "\n",
        "predicted_classes = np.argmax(predictions, axis=1)"
      ],
      "metadata": {
        "id": "zcoQVj0AmdIi"
      },
      "execution_count": null,
      "outputs": []
    },
    {
      "cell_type": "code",
      "source": [
        "true_classes = test_generator.classes\n",
        "class_labels = list(test_generator.class_indices.keys())"
      ],
      "metadata": {
        "id": "VWi878ugm9KE"
      },
      "execution_count": null,
      "outputs": []
    },
    {
      "cell_type": "code",
      "source": [
        "report = sklearn.metrics.classification_report(true_classes, predicted_classes, target_names = class_labels)\n",
        "print(report)"
      ],
      "metadata": {
        "id": "bOq-JTo_nB35"
      },
      "execution_count": null,
      "outputs": []
    },
    {
      "cell_type": "code",
      "source": [
        "cm = sklearn.metrics.confusion_matrix(validation_generator, test_generator)\n",
        "plt.figure(figsize=(8,8))\n",
        "sns.heatmap(cm, fmt='.0f', annot=True, linewidths=0.2, linecolor='purple')\n",
        "plt.xlabel('predicted value')\n",
        "plt.ylabel('Truth value')\n",
        "plt.show()"
      ],
      "metadata": {
        "id": "fD5EU6IHnGmZ"
      },
      "execution_count": null,
      "outputs": []
    },
    {
      "cell_type": "code",
      "source": [
        "cm = sklearn.metrics.confusion_matrix(true_classes, predicted_classes)\n",
        "plt.figure(figsize=(8,8))\n",
        "sns.heatmap(cm, fmt='.0f', annot=True, linewidths=0.2, linecolor='purple')\n",
        "plt.xlabel('predicted value')\n",
        "plt.ylabel('Truth value')\n",
        "plt.show()"
      ],
      "metadata": {
        "id": "Lwd1H21dnORP"
      },
      "execution_count": null,
      "outputs": []
    },
    {
      "cell_type": "code",
      "source": [
        "import matplotlib.pyplot as plt\n",
        "\n",
        "# Create a list of class names\n",
        "class_names = ['test_generator', 'validation_generator', 'train_generator']\n",
        "\n",
        "# Create a list of corresponding values\n",
        "values = [83484,32,968]\n",
        "\n",
        "# Create a line plot\n",
        "plt.plot(class_names, values, marker='o', linestyle='-')\n",
        "\n",
        "# Set plot title and labels\n",
        "plt.title('Comparison of Class Values')\n",
        "plt.xlabel('Class Name')\n",
        "plt.ylabel('Value')\n",
        "\n",
        "# Display the plot\n",
        "plt.show()"
      ],
      "metadata": {
        "id": "EVTzKln0nXBr"
      },
      "execution_count": null,
      "outputs": []
    },
    {
      "cell_type": "code",
      "source": [
        "# Calculate and print metrics for each class\n",
        "for i in range(4):\n",
        "    tp = cm[i, i]\n",
        "    fp = np.sum(cm[:, i]) - tp\n",
        "    fn = np.sum(cm[i, :]) - tp\n",
        "    tn = np.sum(cm) - (tp + fp + fn)\n",
        "\n",
        "    print(f\"\\nClass {i}:\")\n",
        "    print(f\"True Positives: {tp}\")\n",
        "    print(f\"False Positives: {fp}\")\n",
        "    print(f\"True Negatives: {tn}\")\n",
        "    print(f\"False Negatives: {fn}\")\n",
        "    print(\"-------------\")\n"
      ],
      "metadata": {
        "id": "JzsXbCfdnhTd"
      },
      "execution_count": null,
      "outputs": []
    }
  ]
}